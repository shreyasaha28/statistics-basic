{
 "cells": [
  {
   "cell_type": "raw",
   "id": "d3aec65a-5716-4fc5-b6c4-3fcba5c199e8",
   "metadata": {},
   "source": [
    "1 . What is statistics and why it is important?\n",
    ". Statistics is the branch of mathematics for collecting, analysing and interpreting data. Statistics can be used to predict the future, determine the probability that a specific event will happen"
   ]
  },
  {
   "cell_type": "raw",
   "id": "57ee9910-c854-4873-a8d3-ce39c92aba39",
   "metadata": {},
   "source": [
    "2. What are the two main  types of statistics?\n",
    "The two main types of statistics are 1. Descriptive statistics \n",
    "                                     2. Inferential statistics."
   ]
  },
  {
   "cell_type": "raw",
   "id": "de2f6dfc-c37f-4b1c-bb86-832b850b12ac",
   "metadata": {},
   "source": [
    "3.what are descriptive statistics?\n",
    "Descriptive statistics are numerical summaries of data sets that help make data understandable and interpretable. They provide a general overview of variables and lay the groundwork for further analysis."
   ]
  },
  {
   "cell_type": "raw",
   "id": "c2b50934-abce-42d3-91a0-07df8d2f1835",
   "metadata": {},
   "source": [
    "4. What are inferential statistics \n",
    "Inferential statistics involves using sample data to make generalizations or inferences about a larger population."
   ]
  },
  {
   "cell_type": "raw",
   "id": "f5e1277d-55bf-4553-8b5b-2986990c3f56",
   "metadata": {},
   "source": [
    "5. What is sampling in statistics?\n",
    "In statistics, sampling is the process of selecting a subset of individuals or observations from a larger population to gather data and make inferences about the entire population"
   ]
  },
  {
   "cell_type": "raw",
   "id": "08c81347-ca5a-41ff-9ba4-7d72a6ab1a65",
   "metadata": {},
   "source": [
    "6. What are the different types of sampling methods?\n",
    "  There are four types of sampling - Simple random sampling\n",
    "                                   - Stratified sampling\n",
    "                                   - cluster sampling\n",
    "                                   - systamatic sampling"
   ]
  },
  {
   "cell_type": "raw",
   "id": "8acacbc0-1a98-4733-be61-4ad25349c72e",
   "metadata": {},
   "source": [
    "7.What is the difference between random sampling and non random sampling?\n",
    "  Random sampling ensures each member of population has equal chance of being selected , it is unbaised where as in non random sampling selection of sample is baised there is a chance that in that sample the population does not get equal chance. "
   ]
  },
  {
   "cell_type": "raw",
   "id": "a3c325bd-b14c-4299-aea7-e19853abb5ea",
   "metadata": {},
   "source": [
    "8. Define and give examples of qualitative and quantitative data?\n",
    "   The examples of quantitative data are - height , weight, IQ , length , distance , salary, number of children ,number of mobile phone etc.\n",
    "   The examples of qulitative data are- blood group , gender , colour, rank , grade etc."
   ]
  },
  {
   "cell_type": "raw",
   "id": "9e920cda-39a0-48e5-b49a-a8d14af12e3f",
   "metadata": {},
   "source": [
    "9. what are the different types of data in statistics ?\n",
    " The different types of data are - qualitative data and quantitative data . This qualitative are of two types - nominal data and ordinal data and quantitative data also has two types - discrete data and continous data."
   ]
  },
  {
   "cell_type": "raw",
   "id": "78830829-39a1-462d-94b4-b558f3fe4150",
   "metadata": {},
   "source": [
    "10. Explain nominal , ordinal , interval and ratio levels of measurement ?\n",
    "    Nominal level of mesurement is labelled but it doesnot have a meaning ful order or true zero starting point.\n",
    "    Ordinal level of measurement is lablled and has a meaningful order but it doesnot have measureable difference and true zero starting point.\n",
    "    Interval level of measurment is labelled, has a meaningful order and has measurable diffrence but does not have true zero starting point.\n",
    "    Ratio level of measurement is labelled, has a meaningful order ,has measureable difference and true zero starting point."
   ]
  },
  {
   "cell_type": "raw",
   "id": "eb3d1a95-4e0a-412c-b7c4-63b694be5b51",
   "metadata": {},
   "source": [
    "11. What is the measure of central tendency?\n",
    "    center tendency represents the center part of a data set using mean , median and mode . it helps in feature engineering , data preparation and exploratory data analysis."
   ]
  },
  {
   "cell_type": "raw",
   "id": "191dbbec-102d-49ef-b8e5-cf9c922febe6",
   "metadata": {},
   "source": [
    "12. Define mean , median , mode .\n",
    "    Mean is summing up all the observations and dividing it by total number of observations .\n",
    "    Median is the mid point of an data when arranged in order.\n",
    "    Mode the value that appers most often."
   ]
  },
  {
   "cell_type": "raw",
   "id": "5d8bf5c8-0746-40bb-a0bd-caf8ef078d49",
   "metadata": {},
   "source": [
    "13. What is the significance of measure of central tendency ?\n",
    "     It provides a sinle representative value that summarizes the central or typical value of a dataset making it easier to understand and compare data.\n"
   ]
  },
  {
   "cell_type": "raw",
   "id": "f56d24ad-6346-4b2a-9c23-d2760009cb0b",
   "metadata": {},
   "source": [
    "14. What is variance and how it is calculted ?\n",
    "    The average of the square differences from the mean.\n",
    "     variance = sum of squared differences / number of observations\n"
   ]
  },
  {
   "cell_type": "raw",
   "id": "047aced2-cbbd-4ffa-b194-79758165ef96",
   "metadata": {},
   "source": [
    "15.What is standard deviation and how it is calculated ?\n",
    "   standard deviation is a measure of how spread out numbers are there.\n",
    "    standard deviatin is square root of variance "
   ]
  },
  {
   "cell_type": "raw",
   "id": "34eb91d7-3bbd-43cf-be25-92e3d0e25465",
   "metadata": {},
   "source": [
    "16. Define and explaib the term range in statistics ? \n",
    "    In statistics range is the simplest measure od variation representing the spread of data from its lowest to highest value.  "
   ]
  },
  {
   "cell_type": "raw",
   "id": "228a995f-5824-4816-9a3c-63763e46465c",
   "metadata": {},
   "source": [
    "17. what is the diffderence between variance and standard deviation ?\n",
    "    Variance measure how much individual data points deviate from the mean of data set. variance is expressed in squared units f orignal data set.\n",
    "    standard deviation represents  the average distance of data points from the mean. It is square root of variance "
   ]
  },
  {
   "cell_type": "raw",
   "id": "e803675a-b7b8-4292-aa44-b00d3022686a",
   "metadata": {},
   "source": [
    "18. What is skewness in dataset?\n",
    "    Skewness is measure of symmetricity . If a data set is symmetric then skewness will be zero."
   ]
  },
  {
   "cell_type": "raw",
   "id": "bf010efa-a7e2-4f89-8324-a8bfef50aad5",
   "metadata": {},
   "source": [
    "19. What does it mean if a dataset is positively or negatively skewed ? \n",
    "    Positive skewed data means the tail is in the right side of the distribution .\n",
    "    Negatively skewed data means the tail is on the left side."
   ]
  },
  {
   "cell_type": "raw",
   "id": "6e004b7e-374f-45a5-beeb-9c5bbb49d907",
   "metadata": {},
   "source": [
    "20. Define and expalin kurtosis.\n",
    "    Kurtosis is a statistical measurement that describe how a probability distribution's tails are shaped in relation to normal distribution."
   ]
  },
  {
   "cell_type": "raw",
   "id": "f4ccfe24-7770-4207-a6b4-9355e3eb1fb0",
   "metadata": {},
   "source": [
    "21. What is purpose of covariance ?\n",
    "    covariance helps us to try and understand the relationship of a feature with respect to another feature."
   ]
  },
  {
   "cell_type": "raw",
   "id": "dffddfe4-4de7-43a7-b2c6-5e86cac792b4",
   "metadata": {},
   "source": [
    "22. what does correlation measure in statistics?\n",
    "    Correlation measures the strengrth , direction of relationship between two variables in a dataset."
   ]
  },
  {
   "cell_type": "raw",
   "id": "0fc88470-5f97-4fcf-9409-df3f3f1ddc96",
   "metadata": {},
   "source": [
    "23. What is the difference between covariance and correlation ?\n",
    "    covariance helps us to try and understand the relationship of a feature with respect to another feature where as Correlation measures the strengrth , direction of relationship between two variables in a dataset."
   ]
  },
  {
   "cell_type": "raw",
   "id": "5a2d224a-ebf5-4c78-b2c6-a6dc065a5031",
   "metadata": {},
   "source": [
    "24. what are some real world application of statistics ? \n",
    "     Applications of statistics are in market research , financial analysis,healthcare, genetics,education research etc"
   ]
  },
  {
   "cell_type": "code",
   "execution_count": null,
   "id": "4e2ec90b-346e-4d5e-919a-7075347ab801",
   "metadata": {},
   "outputs": [],
   "source": [
    "#                              PRACTICAL QUESTIONS"
   ]
  },
  {
   "cell_type": "raw",
   "id": "a8b1a156-ca4e-47ee-b1df-4c98d648fad7",
   "metadata": {},
   "source": [
    "1. How do you calculate mean median mode in a data set."
   ]
  },
  {
   "cell_type": "code",
   "execution_count": 31,
   "id": "1c026be3-8e69-43bd-8d60-756c75aea53f",
   "metadata": {},
   "outputs": [
    {
     "data": {
      "text/plain": [
       "2.8"
      ]
     },
     "execution_count": 31,
     "metadata": {},
     "output_type": "execute_result"
    }
   ],
   "source": [
    "d= [1,2,3,3,5,]\n",
    "import numpy as np\n",
    "np.mean(d)"
   ]
  },
  {
   "cell_type": "code",
   "execution_count": 29,
   "id": "aa03cbf6-e11a-4487-94c9-ce056bc33442",
   "metadata": {},
   "outputs": [
    {
     "data": {
      "text/plain": [
       "3.0"
      ]
     },
     "execution_count": 29,
     "metadata": {},
     "output_type": "execute_result"
    }
   ],
   "source": [
    "np.median(d)"
   ]
  },
  {
   "cell_type": "code",
   "execution_count": 33,
   "id": "c9477b58-50e7-4f27-9f4a-e6e38f0dbcb4",
   "metadata": {},
   "outputs": [
    {
     "data": {
      "text/plain": [
       "3"
      ]
     },
     "execution_count": 33,
     "metadata": {},
     "output_type": "execute_result"
    }
   ],
   "source": [
    "import statistics\n",
    "\n",
    "statistics.mode(d)\n"
   ]
  },
  {
   "cell_type": "raw",
   "id": "0ed382aa-f05f-4f3c-b7e5-a7cac3a65e8b",
   "metadata": {},
   "source": [
    "2.write a python program to compute the variance and standard deviation of a dsataset."
   ]
  },
  {
   "cell_type": "code",
   "execution_count": 60,
   "id": "0654c2ed-b1fc-4eb4-b929-2aba1af0d6ac",
   "metadata": {},
   "outputs": [
    {
     "name": "stdout",
     "output_type": "stream",
     "text": [
      "Data: [1, 2, 3, 4, 5]\n",
      "Mean: 3.0\n",
      "Variance: 2.0\n",
      "Standard Deviation: 1.4142135623730951\n"
     ]
    }
   ],
   "source": [
    "data = [1, 2, 3, 4, 5]\n",
    "\n",
    "# Step 1: Calculate the mean (average)\n",
    "mean = sum(data) / len(data)\n",
    "\n",
    "# Step 2: Calculate the squared differences from the mean\n",
    "squared_differences = [(x - mean) ** 2 for x in data]\n",
    "\n",
    "# Step 3: Calculate the variance\n",
    "variance = sum(squared_differences) / len(data)  # For population variance\n",
    "\n",
    "# Step 4: Calculate the standard deviation\n",
    "standard_deviation = variance ** 0.5\n",
    "\n",
    "print(\"Data:\", data)\n",
    "print(\"Mean:\", mean)\n",
    "print(\"Variance:\", variance)\n",
    "print(\"Standard Deviation:\", standard_deviation)\n"
   ]
  },
  {
   "cell_type": "raw",
   "id": "9ba179e0-6425-405d-b79b-53e1b239a433",
   "metadata": {},
   "source": [
    "3. Create a dataset and classify it to nominal , ordinal , interval and ratio types."
   ]
  },
  {
   "cell_type": "code",
   "execution_count": 63,
   "id": "f7469c16-c9c3-4b39-8168-8f59cf882163",
   "metadata": {},
   "outputs": [
    {
     "name": "stdout",
     "output_type": "stream",
     "text": [
      "Dataset:\n",
      "{'ID': 1, 'Gender': 'Male', 'Education': 'High School', 'Temperature': 36, 'Age': 25, 'Salary': 40000}\n",
      "{'ID': 2, 'Gender': 'Female', 'Education': \"Bachelor's\", 'Temperature': 37, 'Age': 30, 'Salary': 55000}\n",
      "{'ID': 3, 'Gender': 'Male', 'Education': \"Master's\", 'Temperature': 35, 'Age': 28, 'Salary': 65000}\n",
      "{'ID': 4, 'Gender': 'Female', 'Education': 'PhD', 'Temperature': 38, 'Age': 45, 'Salary': 90000}\n",
      "\n",
      "Variable Classification:\n",
      "ID           -> Nominal (used as an identifier)\n",
      "Gender       -> Nominal (categories without order)\n",
      "Education    -> Ordinal (ordered categories)\n",
      "Temperature  -> Interval (no true zero, but differences matter)\n",
      "Age          -> Ratio (true zero, meaningful comparisons)\n",
      "Salary       -> Ratio (true zero, can compare ratios)\n"
     ]
    }
   ],
   "source": [
    "# Creating a small dataset as a list of dictionaries\n",
    "dataset = [\n",
    "    {\"ID\": 1, \"Gender\": \"Male\", \"Education\": \"High School\", \"Temperature\": 36, \"Age\": 25, \"Salary\": 40000},\n",
    "    {\"ID\": 2, \"Gender\": \"Female\", \"Education\": \"Bachelor's\", \"Temperature\": 37, \"Age\": 30, \"Salary\": 55000},\n",
    "    {\"ID\": 3, \"Gender\": \"Male\", \"Education\": \"Master's\", \"Temperature\": 35, \"Age\": 28, \"Salary\": 65000},\n",
    "    {\"ID\": 4, \"Gender\": \"Female\", \"Education\": \"PhD\", \"Temperature\": 38, \"Age\": 45, \"Salary\": 90000},\n",
    "]\n",
    "\n",
    "# Print the dataset\n",
    "print(\"Dataset:\")\n",
    "for row in dataset:\n",
    "    print(row)\n",
    "\n",
    "# Classification of data types\n",
    "print(\"\\nVariable Classification:\")\n",
    "print(\"ID           -> Nominal (used as an identifier)\")\n",
    "print(\"Gender       -> Nominal (categories without order)\")\n",
    "print(\"Education    -> Ordinal (ordered categories)\")\n",
    "print(\"Temperature  -> Interval (no true zero, but differences matter)\")\n",
    "print(\"Age          -> Ratio (true zero, meaningful comparisons)\")\n",
    "print(\"Salary       -> Ratio (true zero, can compare ratios)\")\n"
   ]
  },
  {
   "cell_type": "raw",
   "id": "bc58cf0e-1151-4597-8b79-082cf5e44a66",
   "metadata": {},
   "source": [
    "4. Implement a samplling technique like random samplling technique and stratified samplling."
   ]
  },
  {
   "cell_type": "code",
   "execution_count": 3,
   "id": "986458ef-68d9-4684-9970-7265effcd147",
   "metadata": {},
   "outputs": [],
   "source": [
    "\n",
    "dataset = [\n",
    "    {\"ID\": 1, \"Gender\": \"Male\", \"Age\": 25},\n",
    "    {\"ID\": 2, \"Gender\": \"Female\", \"Age\": 30},\n",
    "    {\"ID\": 3, \"Gender\": \"Male\", \"Age\": 28},\n",
    "    {\"ID\": 4, \"Gender\": \"Female\", \"Age\": 45},\n",
    "    \n",
    "]\n"
   ]
  },
  {
   "cell_type": "code",
   "execution_count": 5,
   "id": "bc9eb040-a1fe-4a55-9ca9-c6cc8dc55b94",
   "metadata": {},
   "outputs": [
    {
     "name": "stdout",
     "output_type": "stream",
     "text": [
      " Random Sampling (3 records):\n",
      "{'ID': 2, 'Gender': 'Female', 'Age': 30}\n",
      "{'ID': 4, 'Gender': 'Female', 'Age': 45}\n",
      "{'ID': 3, 'Gender': 'Male', 'Age': 28}\n"
     ]
    }
   ],
   "source": [
    "import random\n",
    "\n",
    "# Randomly pick 3 samples from the dataset\n",
    "random_sample = random.sample(dataset, 3)\n",
    "\n",
    "print(\" Random Sampling (3 records):\")\n",
    "for row in random_sample:\n",
    "    print(row)\n"
   ]
  },
  {
   "cell_type": "raw",
   "id": "ab35f424-f529-4117-a04c-c9adfa0ab32f",
   "metadata": {},
   "source": [
    "5. Write a python function to calculate range of dataset."
   ]
  },
  {
   "cell_type": "code",
   "execution_count": 1,
   "id": "17721378-2c92-4caa-b7de-84c7f15e804a",
   "metadata": {},
   "outputs": [
    {
     "name": "stdout",
     "output_type": "stream",
     "text": [
      "5\n",
      "1\n",
      "4\n"
     ]
    }
   ],
   "source": [
    "d=[1,2,3,4,5]\n",
    "max_num=max(d)\n",
    "min_num=min(d)\n",
    "range= max_num-min_num\n",
    "print(max_num)\n",
    "print(min_num)\n",
    "print(range)"
   ]
  },
  {
   "cell_type": "code",
   "execution_count": null,
   "id": "6caa8038-48ce-42c7-b6b0-0fc25717230f",
   "metadata": {},
   "outputs": [],
   "source": [
    "6. create a dataset and plot a histogram to visulize skewness."
   ]
  },
  {
   "cell_type": "code",
   "execution_count": 26,
   "id": "2c01daad-360a-454e-91db-93e192c4aa76",
   "metadata": {},
   "outputs": [
    {
     "data": {
      "text/plain": [
       "<Axes: >"
      ]
     },
     "execution_count": 26,
     "metadata": {},
     "output_type": "execute_result"
    },
    {
     "data": {
      "image/png": "[encoded data removed]",
      "text/plain": [
       "<Figure size 640x480 with 1 Axes>"
      ]
     },
     "metadata": {},
     "output_type": "display_data"
    }
   ],
   "source": [
    "data= [2,3,4,5,8,9,12,40,42,15]\n",
    "import seaborn as sns \n",
    "sns.boxplot(data)"
   ]
  },
  {
   "cell_type": "raw",
   "id": "e10e8b65-6977-408d-9e4f-0667848b46ab",
   "metadata": {},
   "source": [
    "7. calculate skewness and kurtosis using python library."
   ]
  },
  {
   "cell_type": "code",
   "execution_count": 28,
   "id": "5d3f5890-ed40-49ae-9959-ba4f952ccd23",
   "metadata": {},
   "outputs": [
    {
     "name": "stdout",
     "output_type": "stream",
     "text": [
      "Skewness: 0.0\n",
      "Kurtosis: -0.96\n"
     ]
    }
   ],
   "source": [
    "from scipy.stats import skew, kurtosis\n",
    "\n",
    "data = [1, 2, 3, 3, 4, 5]\n",
    "\n",
    "# Calculate skewness and kurtosis\n",
    "data_skewness = skew(data)\n",
    "data_kurtosis = kurtosis(data)\n",
    "\n",
    "# Print the results\n",
    "print(\"Skewness:\", data_skewness)\n",
    "print(\"Kurtosis:\", data_kurtosis)\n"
   ]
  },
  {
   "cell_type": "raw",
   "id": "672f70a6-4ea0-4dd0-a97e-cc67ec5aaffa",
   "metadata": {},
   "source": [
    "8. Generate a dataset and demonstrate positive and negative skewness."
   ]
  },
  {
   "cell_type": "code",
   "execution_count": 1,
   "id": "de683551-8db9-4995-a2dd-f34fbaa6007a",
   "metadata": {},
   "outputs": [
    {
     "data": {
      "image/png": "[encoded data removed]",
      "text/plain": [
       "<Figure size 1200x500 with 2 Axes>"
      ]
     },
     "metadata": {},
     "output_type": "display_data"
    },
    {
     "name": "stdout",
     "output_type": "stream",
     "text": [
      "\n",
      "Skewness Coefficient (Positive Skew): 1.8650\n",
      "Skewness Coefficient (Negative Skew): -1.9920\n"
     ]
    }
   ],
   "source": [
    "# 8.  Generate a dataset and demonstrate positive and negative skewness\n",
    "import numpy as np\n",
    "import matplotlib.pyplot as plt\n",
    "from scipy.stats import skew\n",
    "\n",
    "# Set a seed for reproducibility\n",
    "np.random.seed(42)\n",
    "\n",
    "\n",
    "positive_skew_data = np.random.exponential(scale=5, size=1000) # Exponential distribution is naturally positively skewed\n",
    "\n",
    "\n",
    "negative_skew_data = 100 - np.random.exponential(scale=5, size=1000)\n",
    "\n",
    "\n",
    "plt.figure(figsize=(12, 5))\n",
    "\n",
    "# Histogram for Positive Skewness\n",
    "plt.subplot(1, 2, 1) # 1 row, 2 columns, 1st plot\n",
    "plt.hist(positive_skew_data, bins=30, color='salmon', edgecolor='black')\n",
    "plt.title('Positive Skewness')\n",
    "plt.xlabel('Value')\n",
    "plt.ylabel('Frequency')\n",
    "plt.grid(axis='y', alpha=0.75)\n",
    "plt.axvline(np.mean(positive_skew_data), color='red', linestyle='dashed', linewidth=2, label=f'Mean: {np.mean(positive_skew_data):.2f}')\n",
    "plt.axvline(np.median(positive_skew_data), color='green', linestyle='dashed', linewidth=2, label=f'Median: {np.median(positive_skew_data):.2f}')\n",
    "plt.legend()\n",
    "\n",
    "\n",
    "# Histogram for Negative Skewness\n",
    "plt.subplot(1, 2, 2) # 1 row, 2 columns, 2nd plot\n",
    "plt.hist(negative_skew_data, bins=30, color='lightgreen', edgecolor='black')\n",
    "plt.title('Negative Skewness')\n",
    "plt.xlabel('Value')\n",
    "plt.ylabel('Frequency')\n",
    "plt.grid(axis='y', alpha=0.75)\n",
    "plt.axvline(np.mean(negative_skew_data), color='red', linestyle='dashed', linewidth=2, label=f'Mean: {np.mean(negative_skew_data):.2f}')\n",
    "plt.axvline(np.median(negative_skew_data), color='green', linestyle='dashed', linewidth=2, label=f'Median: {np.median(negative_skew_data):.2f}')\n",
    "plt.legend()\n",
    "\n",
    "\n",
    "plt.tight_layout() # Adjust layout to prevent overlapping titles/labels\n",
    "plt.show()\n",
    "\n",
    "\n",
    "# --- Calculate Skewness Coefficients to confirm ---\n",
    "skewness_positive = skew(positive_skew_data)\n",
    "skewness_negative = skew(negative_skew_data)\n",
    "\n",
    "print(f\"\\nSkewness Coefficient (Positive Skew): {skewness_positive:.4f}\")\n",
    "print(f\"Skewness Coefficient (Negative Skew): {skewness_negative:.4f}\")"
   ]
  },
  {
   "cell_type": "raw",
   "id": "6c6e4918-9132-4825-a8f9-a8984efab1c9",
   "metadata": {},
   "source": [
    "9.Write a python script to calculate covariance between 2 dataset."
   ]
  },
  {
   "cell_type": "code",
   "execution_count": 4,
   "id": "7283fe20-9b03-4e02-b4d0-2630bbccb35a",
   "metadata": {},
   "outputs": [
    {
     "name": "stdout",
     "output_type": "stream",
     "text": [
      "Covariance between dataset1 and dataset2: 2.033333333333333\n"
     ]
    }
   ],
   "source": [
    "import numpy as np  \n",
    "\n",
    "dataset1 = [1, 2, 3, 4, 4, 5]\n",
    "dataset2 = [2, 3, 3, 4, 5, 6]\n",
    "\n",
    "# Calculate the covariance matrix using numpy\n",
    "cov_matrix = np.cov(dataset1, dataset2)\n",
    "\n",
    "\n",
    "cov_value = cov_matrix[0][1]\n",
    "\n",
    "# Print the result\n",
    "print(\"Covariance between dataset1 and dataset2:\", cov_value)\n"
   ]
  },
  {
   "cell_type": "raw",
   "id": "803b2491-06c4-4016-9747-41c6cbbd261c",
   "metadata": {},
   "source": [
    "10. write a python script to calculate the correlation coefficient between two dataset."
   ]
  },
  {
   "cell_type": "code",
   "execution_count": 6,
   "id": "30fdee28-09b0-4fe1-9fc5-f0e7b617fa0a",
   "metadata": {},
   "outputs": [
    {
     "name": "stdout",
     "output_type": "stream",
     "text": [
      "Correlation coefficient between dataset1 and dataset2: 0.9384615384615386\n"
     ]
    }
   ],
   "source": [
    "import numpy as np  \n",
    "\n",
    "dataset1 = [1, 2, 3, 4, 4, 5]\n",
    "dataset2 = [2, 3, 3, 4, 5, 6]\n",
    "\n",
    "# Calculate the correlation coefficient matrix\n",
    "correlation_matrix = np.corrcoef(dataset1, dataset2)\n",
    "\n",
    "# Get the correlation coefficient (value between -1 and 1)\n",
    "correlation = correlation_matrix[0][1]\n",
    "\n",
    "# Print the result\n",
    "print(\"Correlation coefficient between dataset1 and dataset2:\", correlation)\n"
   ]
  },
  {
   "cell_type": "raw",
   "id": "653e3919-6e2b-4f69-943f-0c9018427d44",
   "metadata": {},
   "source": [
    "11. create a scatter plot to visualize the relationship between two variable."
   ]
  },
  {
   "cell_type": "code",
   "execution_count": 24,
   "id": "f897a6b5-3760-4483-8eac-c8d34c87e6f5",
   "metadata": {},
   "outputs": [
    {
     "data": {
      "image/png": "[encoded data removed]",
      "text/plain": [
       "<Figure size 640x480 with 1 Axes>"
      ]
     },
     "metadata": {},
     "output_type": "display_data"
    }
   ],
   "source": [
    "import matplotlib.pyplot as plt\n",
    "\n",
    "dataset1 = [1, 2, 3, 4, 4, 5]\n",
    "dataset2 = [2, 3, 3, 4, 5, 6]\n",
    "\n",
    "# Create a scatter plot\n",
    "plt.scatter(dataset1, dataset2, color='blue')\n",
    "\n",
    "# Add title and labels\n",
    "plt.title('Scatter Plot of Dataset1 vs Dataset2')\n",
    "plt.xlabel('Dataset 1')\n",
    "plt.ylabel('Dataset 2')\n",
    "\n",
    "plt.show()\n"
   ]
  },
  {
   "cell_type": "raw",
   "id": "6f18e5c7-9a2a-4ecd-ad2a-a33cc3f41c8b",
   "metadata": {},
   "source": [
    "12. Implemennt and compare simple random sampling and systamatic sampling."
   ]
  },
  {
   "cell_type": "code",
   "execution_count": 26,
   "id": "b26f4b43-b1af-4830-84dd-5d8c63eeace8",
   "metadata": {},
   "outputs": [
    {
     "name": "stdout",
     "output_type": "stream",
     "text": [
      "Population: [1, 2, 3, 4, 5, 6, 7, 8, 9, 10, 11, 12, 13, 14, 15, 16, 17, 18, 19, 20, 21, 22, 23, 24, 25, 26, 27, 28, 29, 30, 31, 32, 33, 34, 35, 36, 37, 38, 39, 40, 41, 42, 43, 44, 45, 46, 47, 48, 49, 50]\n",
      "\n",
      "Simple Random Sample: [1, 3, 6, 11, 12, 24, 27, 43, 47, 49]\n",
      "Systematic Sample: [2, 7, 12, 17, 22, 27, 32, 37, 42, 47]\n"
     ]
    }
   ],
   "source": [
    "import numpy as np\n",
    "\n",
    "\n",
    "population = list(range(1, 51))  # Dataset with numbers from 1 to 50\n",
    "\n",
    "sample_size = 10  # Number of samples to pick\n",
    "\n",
    "# 1. Simple Random Sampling\n",
    "simple_random_sample = np.random.choice(population, size=sample_size, replace=False)\n",
    "\n",
    "# 2. Systematic Sampling\n",
    "k = len(population) // sample_size  # Calculate the interval\n",
    "\n",
    "# Choose a random start between 0 and k-1\n",
    "start = np.random.randint(0, k)\n",
    "\n",
    "# Select every k-th element starting from 'start'\n",
    "systematic_sample = population[start::k][:sample_size]\n",
    "\n",
    "print(\"Population:\", population)\n",
    "print(\"\\nSimple Random Sample:\", sorted(simple_random_sample))\n",
    "print(\"Systematic Sample:\", systematic_sample)\n"
   ]
  },
  {
   "cell_type": "raw",
   "id": "730d55f2-3f3e-48b4-bd18-a80e1dfda5a5",
   "metadata": {},
   "source": [
    "13. Simulate data using python and calculate its central tendency and dispersion."
   ]
  },
  {
   "cell_type": "code",
   "execution_count": 40,
   "id": "edc57a3d-c339-4bc5-9ebd-69965c1ef9a6",
   "metadata": {},
   "outputs": [
    {
     "name": "stdout",
     "output_type": "stream",
     "text": [
      "Mean: 27.5\n",
      "Median: 23.0\n",
      "Mode: 20\n",
      "Variance: 260.05555555555554\n",
      "Standard Deviation: 16.12623810922918\n",
      "Range: 43\n"
     ]
    }
   ],
   "source": [
    "import random\n",
    "from statistics import mean, median, mode, variance, stdev\n",
    "\n",
    "# Step 1: Generate 10 random numbers between 1 and 50\n",
    "data = [random.randint(1, 50) for _ in range(10)]\n",
    "\n",
    "# Step 2: Calculate central tendency\n",
    "print(\"Mean:\", mean(data))\n",
    "print(\"Median:\", median(data))\n",
    "print(\"Mode:\", mode(data))\n",
    "\n",
    "# Step 3: Calculate dispersion\n",
    "print(\"Variance:\", variance(data))\n",
    "print(\"Standard Deviation:\", stdev(data))\n",
    "print(\"Range:\", max(data) - min(data))\n"
   ]
  },
  {
   "cell_type": "raw",
   "id": "83af16df-f117-4db3-ae77-a2fbe9c65abd",
   "metadata": {},
   "source": [
    "14. Use numpy or pandas to summarize a dataset descriptive statistics"
   ]
  },
  {
   "cell_type": "code",
   "execution_count": 65,
   "id": "0f739a5e-fefd-4974-939d-f8b26575cb4d",
   "metadata": {},
   "outputs": [
    {
     "name": "stdout",
     "output_type": "stream",
     "text": [
      "             Age        Income\n",
      "count  10.000000     10.000000\n",
      "mean   39.600000  52097.000000\n",
      "std     7.662318  15108.352414\n",
      "min    28.000000  30156.000000\n",
      "25%    35.500000  45104.750000\n",
      "50%    38.500000  48587.500000\n",
      "75%    44.250000  53308.500000\n",
      "max    53.000000  78312.000000\n"
     ]
    }
   ],
   "source": [
    "import pandas as pd\n",
    "import numpy as np\n",
    "\n",
    "# Create a sample dataset (for example, ages)\n",
    "data = {\n",
    "    'Age': np.random.randint(18, 60, size=10),\n",
    "    'Income': np.random.randint(30000, 100000, size=10)\n",
    "}\n",
    "\n",
    "# Convert to DataFrame\n",
    "df = pd.DataFrame(data)\n",
    "\n",
    "# Use pandas describe() to get descriptive statistics\n",
    "summary = df.describe()\n",
    "\n",
    "print(summary)\n"
   ]
  },
  {
   "cell_type": "raw",
   "id": "e1a6b119-2973-424f-96a9-3892aead7564",
   "metadata": {},
   "source": [
    "16. Plot a boxplot to understand spread and identify outlier. "
   ]
  },
  {
   "cell_type": "code",
   "execution_count": 69,
   "id": "1b06e088-613f-40f5-92ee-edf1be2a901b",
   "metadata": {},
   "outputs": [
    {
     "data": {
      "image/png": "[encoded data removed]",
      "text/plain": [
       "<Figure size 640x480 with 1 Axes>"
      ]
     },
     "metadata": {},
     "output_type": "display_data"
    }
   ],
   "source": [
    "import matplotlib.pyplot as plt\n",
    "\n",
    "data = [1, 2, 3, 4, 5, 6, 7, 8, 9, 72]\n",
    "\n",
    "plt.boxplot(data)\n",
    "\n",
    "# Step 3: Add title and labels\n",
    "plt.title(\"Boxplot to Identify Outlier\")\n",
    "plt.ylabel(\"Value\")\n",
    "\n",
    "# Step 4: Show the plot\n",
    "plt.show()\n"
   ]
  },
  {
   "cell_type": "raw",
   "id": "de2496a2-2092-44fd-875c-fa8d7b699e01",
   "metadata": {},
   "source": [
    "17. Calculate the interquatile range (IQR) of a dataset."
   ]
  },
  {
   "cell_type": "code",
   "execution_count": 86,
   "id": "d9038cfa-921f-4534-b97e-29a95011b9c4",
   "metadata": {},
   "outputs": [
    {
     "name": "stdout",
     "output_type": "stream",
     "text": [
      "Q1 (25th percentile): 3.25\n",
      "Q3 (75th percentile): 7.75\n",
      "Interquartile Range (IQR): 4.5\n"
     ]
    }
   ],
   "source": [
    "import numpy as np\n",
    "\n",
    "# Step 1: Define the dataset\n",
    "data = [1, 2, 3, 4, 5, 6, 7, 8, 9, 99]\n",
    "\n",
    "# Step 2: Calculate Q1 (25th percentile) and Q3 (75th percentile)\n",
    "Q1 = np.percentile(data, 25)\n",
    "Q3 = np.percentile(data, 75)\n",
    "\n",
    "# Step 3: Calculate IQR\n",
    "IQR = Q3 - Q1\n",
    "\n",
    "# Step 4: Print the result\n",
    "print(\"Q1 (25th percentile):\", Q1)\n",
    "print(\"Q3 (75th percentile):\", Q3)\n",
    "print(\"Interquartile Range (IQR):\", IQR)\n"
   ]
  },
  {
   "cell_type": "raw",
   "id": "fde3c08e-76d8-488f-b116-2cf75fd007c3",
   "metadata": {},
   "source": [
    "18. Implement z score normalization and explain its significance."
   ]
  },
  {
   "cell_type": "code",
   "execution_count": 88,
   "id": "d04c5770-5051-48f6-9b86-a959f6c40f04",
   "metadata": {},
   "outputs": [
    {
     "name": "stdout",
     "output_type": "stream",
     "text": [
      "Original data: [10, 12, 14, 16, 18, 100]\n",
      "Z-score normalized data: [-0.5701701811431423, -0.5079697977457086, -0.44576941434827494, -0.3835690309508412, -0.3213686475534075, 2.228847071741375]\n"
     ]
    }
   ],
   "source": [
    "import numpy as np\n",
    "\n",
    "# Step 1: Sample data\n",
    "data = [10, 12, 14, 16, 18, 100]  # Notice 100 is an outlier\n",
    "\n",
    "# Step 2: Calculate mean and standard deviation\n",
    "mean = np.mean(data)\n",
    "std_dev = np.std(data)\n",
    "\n",
    "# Step 3: Apply Z-score normalization\n",
    "z_scores = [(x - mean) / std_dev for x in data]\n",
    "\n",
    "# Step 4: Print the results\n",
    "print(\"Original data:\", data)\n",
    "print(\"Z-score normalized data:\", z_scores)\n"
   ]
  },
  {
   "cell_type": "code",
   "execution_count": null,
   "id": "b7e86614-900e-465b-bbcb-96803828b318",
   "metadata": {},
   "outputs": [],
   "source": [
    "19.compare two datasets using standard deviation."
   ]
  },
  {
   "cell_type": "code",
   "execution_count": 95,
   "id": "38647cd4-db2a-41a3-9e44-57533e28b168",
   "metadata": {},
   "outputs": [
    {
     "name": "stdout",
     "output_type": "stream",
     "text": [
      "Standard Deviation of Dataset 1: 1.5811388300841898\n",
      "Standard Deviation of Dataset 2: 1.9235384061671346\n",
      "Dataset 2 is more spread out.\n"
     ]
    }
   ],
   "source": [
    "import statistics\n",
    "\n",
    "# Define datasets\n",
    "dataset1 = [1, 2, 3, 4, 5]\n",
    "dataset2 = [2, 4, 5, 6, 7]\n",
    "\n",
    "# Calculate standard deviations\n",
    "std1 = statistics.stdev(dataset1)\n",
    "std2 = statistics.stdev(dataset2)\n",
    "\n",
    "# Print results\n",
    "print(\"Standard Deviation of Dataset 1:\", std1)\n",
    "print(\"Standard Deviation of Dataset 2:\", std2)\n",
    "\n",
    "# Compare\n",
    "if std1 > std2:\n",
    "    print(\"Dataset 1 is more spread out.\")\n",
    "elif std2 > std1:\n",
    "    print(\"Dataset 2 is more spread out.\")\n",
    "else:\n",
    "    print(\"Both datasets have the same spread.\")\n"
   ]
  },
  {
   "cell_type": "raw",
   "id": "be571d2f-d877-41de-958c-1433a6573a9f",
   "metadata": {},
   "source": [
    "20.Write a python program to visualize covariance using heat map."
   ]
  },
  {
   "cell_type": "code",
   "execution_count": 3,
   "id": "53c92c52-9b3d-4df7-8f51-b4f293760b6d",
   "metadata": {},
   "outputs": [
    {
     "data": {
      "image/png": "[encoded data removed]",
      "text/plain": [
       "<Figure size 800x600 with 2 Axes>"
      ]
     },
     "metadata": {},
     "output_type": "display_data"
    }
   ],
   "source": [
    "import numpy as np\n",
    "import pandas as pd\n",
    "import seaborn as sns\n",
    "import matplotlib.pyplot as plt\n",
    "\n",
    "# Create a sample dataset\n",
    "data = {\n",
    "    'Math': np.random.normal(70, 10, 100),\n",
    "    'Science': np.random.normal(65, 15, 100),\n",
    "    'English': np.random.normal(75, 12, 100),\n",
    "    'History': np.random.normal(60, 14, 100)\n",
    "}\n",
    "\n",
    "# Convert to DataFrame\n",
    "df = pd.DataFrame(data)\n",
    "\n",
    "# Calculate covariance matrix\n",
    "cov_matrix = df.cov()\n",
    "\n",
    "# Plot heatmap\n",
    "plt.figure(figsize=(8, 6))\n",
    "sns.heatmap(cov_matrix, annot=True, fmt='.2f', cmap='coolwarm', cbar=True)\n",
    "plt.title('Covariance Matrix Heatmap')\n",
    "plt.tight_layout()\n",
    "plt.show()\n"
   ]
  },
  {
   "cell_type": "raw",
   "id": "4933e7a3-5a3f-474e-a3ce-431220a02cdb",
   "metadata": {},
   "source": [
    "21. Use seaborn to create a correlation matrix for a dataset."
   ]
  },
  {
   "cell_type": "code",
   "execution_count": 5,
   "id": "020cf0cb-59f1-452e-ac23-2c47aa25d446",
   "metadata": {},
   "outputs": [
    {
     "data": {
      "image/png": "[encoded data removed]",
      "text/plain": [
       "<Figure size 640x480 with 2 Axes>"
      ]
     },
     "metadata": {},
     "output_type": "display_data"
    }
   ],
   "source": [
    "import pandas as pd\n",
    "import seaborn as sns\n",
    "import matplotlib.pyplot as plt\n",
    "\n",
    "# Single-variable dataset expanded into multiple related columns\n",
    "data = {\n",
    "    'A': [1, 2, 3, 4, 5],\n",
    "    'B': [2, 4, 6, 8, 10],   # Perfect positive correlation with A\n",
    "    'C': [5, 4, 3, 2, 1]     # Perfect negative correlation with A\n",
    "}\n",
    "\n",
    "# Create DataFrame\n",
    "df = pd.DataFrame(data)\n",
    "\n",
    "# Calculate correlation matrix\n",
    "corr_matrix = df.corr()\n",
    "\n",
    "# Plot heatmap\n",
    "sns.heatmap(corr_matrix, annot=True, cmap='coolwarm', fmt=\".2f\")\n",
    "plt.title(\"Correlation Matrix Heatmap\")\n",
    "plt.show()\n"
   ]
  },
  {
   "cell_type": "raw",
   "id": "6e3a7773-9e9c-465d-ba48-8554155e8967",
   "metadata": {},
   "source": [
    "22.Generate a dataset and implement both variance and standard deviation computations."
   ]
  },
  {
   "cell_type": "code",
   "execution_count": 7,
   "id": "4d06f089-5cf6-4687-b3bb-5f86ee34a74e",
   "metadata": {},
   "outputs": [
    {
     "name": "stdout",
     "output_type": "stream",
     "text": [
      "Dataset: [10, 20, 30, 40, 50, 60]\n",
      "\n",
      "Built-in Computation:\n",
      "Variance (sample): 350.0\n",
      "Standard Deviation (sample): 18.708286933869708\n",
      "\n",
      "Manual Computation:\n",
      "Variance (sample): 350.0\n",
      "Standard Deviation (sample): 18.708286933869708\n"
     ]
    }
   ],
   "source": [
    "import numpy as np\n",
    "import pandas as pd\n",
    "\n",
    "dataset = [10, 20, 30, 40, 50, 60]\n",
    "\n",
    "# Convert to Pandas Series\n",
    "data = pd.Series(dataset)\n",
    "\n",
    "# 1. Using built-in pandas/numpy functions\n",
    "variance_builtin = data.var(ddof=1)  # sample variance\n",
    "stddev_builtin = data.std(ddof=1)    # sample standard deviation\n",
    "\n",
    "# 2. Manual computation\n",
    "mean_val = sum(dataset) / len(dataset)\n",
    "squared_diffs = [(x - mean_val) ** 2 for x in dataset]\n",
    "variance_manual = sum(squared_diffs) / (len(dataset) - 1)  # sample variance\n",
    "stddev_manual = variance_manual ** 0.5\n",
    "\n",
    "# Print results\n",
    "print(\"Dataset:\", dataset)\n",
    "print(\"\\nBuilt-in Computation:\")\n",
    "print(\"Variance (sample):\", variance_builtin)\n",
    "print(\"Standard Deviation (sample):\", stddev_builtin)\n",
    "\n",
    "print(\"\\nManual Computation:\")\n",
    "print(\"Variance (sample):\", variance_manual)\n",
    "print(\"Standard Deviation (sample):\", stddev_manual)\n"
   ]
  },
  {
   "cell_type": "raw",
   "id": "de018257-5a15-4bcb-ac35-b396caf27961",
   "metadata": {},
   "source": [
    "23. Visualize skewness and kurtosis using python libraries like matplotlib and seaborn."
   ]
  },
  {
   "cell_type": "code",
   "execution_count": 24,
   "id": "27d3b00f-0e9e-4504-b95c-f9f393e36edd",
   "metadata": {},
   "outputs": [
    {
     "data": {
      "image/png": "[encoded data removed]",
      "text/plain": [
       "<Figure size 1000x600 with 1 Axes>"
      ]
     },
     "metadata": {},
     "output_type": "display_data"
    }
   ],
   "source": [
    "import numpy as np\n",
    "import pandas as pd\n",
    "import seaborn as sns\n",
    "import matplotlib.pyplot as plt\n",
    "from scipy.stats import skew, kurtosis\n",
    "\n",
    "# Generate a dataset with a skewed distribution\n",
    "np.random.seed(42)\n",
    "data = np.random.gamma(shape=2, scale=2, size=1000)  # Positively skewed data\n",
    "\n",
    "# Convert to Pandas Series\n",
    "data_series = pd.Series(data)\n",
    "\n",
    "# Calculate skewness and kurtosis\n",
    "skewness = skew(data)\n",
    "kurt = kurtosis(data)  # Excess kurtosis (normal distribution = 0)\n",
    "\n",
    "# Plot the distribution\n",
    "plt.figure(figsize=(10, 6))\n",
    "sns.histplot(data, kde=True, color='skyblue', bins=30)\n",
    "plt.title(f'Distribution with Skewness = {skewness:.2f}, Kurtosis = {kurt:.2f}')\n",
    "plt.xlabel('Value')\n",
    "plt.ylabel('Frequency')\n",
    "plt.grid(True)\n",
    "plt.show()\n"
   ]
  },
  {
   "cell_type": "raw",
   "id": "daaae084-3e88-42c8-99a1-2db23e37453e",
   "metadata": {},
   "source": [
    "24. Implement the pearson and spearman correlation coefficient for a dataset."
   ]
  },
  {
   "cell_type": "code",
   "execution_count": 26,
   "id": "07d8fa00-8920-433e-9668-ff4371b46d1c",
   "metadata": {},
   "outputs": [
    {
     "name": "stdout",
     "output_type": "stream",
     "text": [
      "Dataset 1: [11, 22, 33, 44, 55]\n",
      "Dataset 2: [10, 20, 30, 40, 50]\n",
      "\n",
      "Pearson Correlation Coefficient: 1.00\n",
      "Spearman Correlation Coefficient: 1.00\n"
     ]
    }
   ],
   "source": [
    "import pandas as pd\n",
    "from scipy.stats import pearsonr, spearmanr\n",
    "\n",
    "# Dataset\n",
    "data1 = [11, 22, 33, 44, 55]\n",
    "data2 = [10, 20, 30, 40, 50]  # Second variable for correlation\n",
    "\n",
    "# Convert to pandas Series (optional)\n",
    "series1 = pd.Series(data1, name=\"Data1\")\n",
    "series2 = pd.Series(data2, name=\"Data2\")\n",
    "\n",
    "# Pearson Correlation\n",
    "pearson_corr, _ = pearsonr(series1, series2)\n",
    "\n",
    "# Spearman Correlation\n",
    "spearman_corr, _ = spearmanr(series1, series2)\n",
    "\n",
    "# Display Results\n",
    "print(\"Dataset 1:\", data1)\n",
    "print(\"Dataset 2:\", data2)\n",
    "print(f\"\\nPearson Correlation Coefficient: {pearson_corr:.2f}\")\n",
    "print(f\"Spearman Correlation Coefficient: {spearman_corr:.2f}\")\n"
   ]
  },
  {
   "cell_type": "code",
   "execution_count": null,
   "id": "c2595f5a-7153-4732-b33b-4556c111d04c",
   "metadata": {},
   "outputs": [],
   "source": []
  }
 ],
 "metadata": {
  "kernelspec": {
   "display_name": "Python [conda env:base] *",
   "language": "python",
   "name": "conda-base-py"
  },
  "language_info": {
   "codemirror_mode": {
    "name": "ipython",
    "version": 3
   },
   "file_extension": ".py",
   "mimetype": "text/x-python",
   "name": "python",
   "nbconvert_exporter": "python",
   "pygments_lexer": "ipython3",
   "version": "3.12.7"
  }
 },
 "nbformat": 4,
 "nbformat_minor": 5
}
